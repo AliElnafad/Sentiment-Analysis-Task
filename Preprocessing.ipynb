{
  "nbformat": 4,
  "nbformat_minor": 0,
  "metadata": {
    "colab": {
      "name": "Task_2.ipynb",
      "provenance": [],
      "collapsed_sections": []
    },
    "kernelspec": {
      "name": "python3",
      "display_name": "Python 3"
    }
  },
  "cells": [
    {
      "cell_type": "code",
      "metadata": {
        "colab": {
          "base_uri": "https://localhost:8080/"
        },
        "id": "uL-HQmc8eigh",
        "outputId": "b7e64e8f-5f7a-47ba-f0bf-ca3fea74efb3"
      },
      "source": [
        "import pandas as pd\n",
        "import re \n",
        "import string\n",
        "import nltk\n",
        "nltk.download('stopwords')\n",
        "nltk.download('punkt')\n",
        "nltk.download('wordnet')\n",
        "from nltk.corpus import stopwords\n",
        "from nltk.stem import PorterStemmer\n",
        "import random\n",
        "from nltk.tokenize import TweetTokenizer  \n",
        "from nltk.stem import WordNetLemmatizer\n",
        "from nltk import word_tokenize\n",
        "stemmer = PorterStemmer() "
      ],
      "execution_count": 88,
      "outputs": [
        {
          "output_type": "stream",
          "text": [
            "[nltk_data] Downloading package stopwords to /root/nltk_data...\n",
            "[nltk_data]   Package stopwords is already up-to-date!\n"
          ],
          "name": "stdout"
        }
      ]
    },
    {
      "cell_type": "code",
      "metadata": {
        "id": "Aq0oQzWeenFd"
      },
      "source": [
        "df = pd.read_csv('Reviews-Dataset.csv')"
      ],
      "execution_count": 16,
      "outputs": []
    },
    {
      "cell_type": "code",
      "metadata": {
        "colab": {
          "base_uri": "https://localhost:8080/",
          "height": 204
        },
        "id": "bDl9sH1qk3gt",
        "outputId": "a93d8e0a-94f8-4466-f664-cd9194923ee1"
      },
      "source": [
        "df.head()"
      ],
      "execution_count": 17,
      "outputs": [
        {
          "output_type": "execute_result",
          "data": {
            "text/html": [
              "<div>\n",
              "<style scoped>\n",
              "    .dataframe tbody tr th:only-of-type {\n",
              "        vertical-align: middle;\n",
              "    }\n",
              "\n",
              "    .dataframe tbody tr th {\n",
              "        vertical-align: top;\n",
              "    }\n",
              "\n",
              "    .dataframe thead th {\n",
              "        text-align: right;\n",
              "    }\n",
              "</style>\n",
              "<table border=\"1\" class=\"dataframe\">\n",
              "  <thead>\n",
              "    <tr style=\"text-align: right;\">\n",
              "      <th></th>\n",
              "      <th>text</th>\n",
              "      <th>label</th>\n",
              "    </tr>\n",
              "  </thead>\n",
              "  <tbody>\n",
              "    <tr>\n",
              "      <th>0</th>\n",
              "      <td>I always wrote this series off as being a comp...</td>\n",
              "      <td>0</td>\n",
              "    </tr>\n",
              "    <tr>\n",
              "      <th>1</th>\n",
              "      <td>1st watched 12/7/2002 - 3 out of 10(Dir-Steve ...</td>\n",
              "      <td>0</td>\n",
              "    </tr>\n",
              "    <tr>\n",
              "      <th>2</th>\n",
              "      <td>This movie was so poorly written and directed ...</td>\n",
              "      <td>0</td>\n",
              "    </tr>\n",
              "    <tr>\n",
              "      <th>3</th>\n",
              "      <td>The most interesting thing about Miryang (Secr...</td>\n",
              "      <td>1</td>\n",
              "    </tr>\n",
              "    <tr>\n",
              "      <th>4</th>\n",
              "      <td>when i first read about \"berlin am meer\" i did...</td>\n",
              "      <td>0</td>\n",
              "    </tr>\n",
              "  </tbody>\n",
              "</table>\n",
              "</div>"
            ],
            "text/plain": [
              "                                                text  label\n",
              "0  I always wrote this series off as being a comp...      0\n",
              "1  1st watched 12/7/2002 - 3 out of 10(Dir-Steve ...      0\n",
              "2  This movie was so poorly written and directed ...      0\n",
              "3  The most interesting thing about Miryang (Secr...      1\n",
              "4  when i first read about \"berlin am meer\" i did...      0"
            ]
          },
          "metadata": {
            "tags": []
          },
          "execution_count": 17
        }
      ]
    },
    {
      "cell_type": "code",
      "metadata": {
        "colab": {
          "base_uri": "https://localhost:8080/"
        },
        "id": "yd3aC7_6k4zc",
        "outputId": "07f7b277-d89a-44e2-f810-c10557f69147"
      },
      "source": [
        "df.shape"
      ],
      "execution_count": 18,
      "outputs": [
        {
          "output_type": "execute_result",
          "data": {
            "text/plain": [
              "(5000, 2)"
            ]
          },
          "metadata": {
            "tags": []
          },
          "execution_count": 18
        }
      ]
    },
    {
      "cell_type": "code",
      "metadata": {
        "colab": {
          "base_uri": "https://localhost:8080/"
        },
        "id": "vSHgF2g4oTBc",
        "outputId": "a2fc5254-4c35-4ed8-d63a-fa9b4ba30f22"
      },
      "source": [
        "df.isna().sum()"
      ],
      "execution_count": 19,
      "outputs": [
        {
          "output_type": "execute_result",
          "data": {
            "text/plain": [
              "text     0\n",
              "label    0\n",
              "dtype: int64"
            ]
          },
          "metadata": {
            "tags": []
          },
          "execution_count": 19
        }
      ]
    },
    {
      "cell_type": "code",
      "metadata": {
        "id": "LPB7U3YQodE1"
      },
      "source": [
        "#there are not null values in dataset "
      ],
      "execution_count": 20,
      "outputs": []
    },
    {
      "cell_type": "code",
      "metadata": {
        "colab": {
          "base_uri": "https://localhost:8080/"
        },
        "id": "PV45JcLBn4-R",
        "outputId": "4990fd9e-04b8-4827-de2f-478d97d1e77a"
      },
      "source": [
        "df['label'].value_counts()"
      ],
      "execution_count": 21,
      "outputs": [
        {
          "output_type": "execute_result",
          "data": {
            "text/plain": [
              "1    2505\n",
              "0    2495\n",
              "Name: label, dtype: int64"
            ]
          },
          "metadata": {
            "tags": []
          },
          "execution_count": 21
        }
      ]
    },
    {
      "cell_type": "code",
      "metadata": {
        "id": "Iryrc822oNeh"
      },
      "source": [
        "#data is balanced"
      ],
      "execution_count": 22,
      "outputs": []
    },
    {
      "cell_type": "code",
      "metadata": {
        "colab": {
          "base_uri": "https://localhost:8080/"
        },
        "id": "H6ssdnjKocCc",
        "outputId": "f033c99f-5ecd-4d9a-d5a6-23169225070b"
      },
      "source": [
        "df.info()"
      ],
      "execution_count": 23,
      "outputs": [
        {
          "output_type": "stream",
          "text": [
            "<class 'pandas.core.frame.DataFrame'>\n",
            "RangeIndex: 5000 entries, 0 to 4999\n",
            "Data columns (total 2 columns):\n",
            " #   Column  Non-Null Count  Dtype \n",
            "---  ------  --------------  ----- \n",
            " 0   text    5000 non-null   object\n",
            " 1   label   5000 non-null   int64 \n",
            "dtypes: int64(1), object(1)\n",
            "memory usage: 78.2+ KB\n"
          ],
          "name": "stdout"
        }
      ]
    },
    {
      "cell_type": "code",
      "metadata": {
        "colab": {
          "base_uri": "https://localhost:8080/"
        },
        "id": "Fyk4pMWoopUT",
        "outputId": "6a1134f7-1b0f-49af-ab2c-7d3b41643c34"
      },
      "source": [
        "random_idx = random.randint(0,5000)\n",
        "print('The Text is : ' + df.iloc[random_idx]['text'])\n",
        "print('The Label is : ' + str(df.iloc[random_idx]['label']))\n"
      ],
      "execution_count": 28,
      "outputs": [
        {
          "output_type": "stream",
          "text": [
            "The Text is : Didn't the writer for this movie see the other three? I loved the original, I thought 2 was the best, I tolerated 3 (it was OK, nothing special). But I HATED this one. Who dare they kill off UG? This was certainly not the Ug who had been almost like a brother to Charlie in number 2. Remember his speech? Charlie said, \"You wouldn't just leave me on Earth, would you\". Ug replied, \"Charlie, Bounty Hunter\", saying that he was now one of them now. How dare the writers ignore this special bond between them and turn him into a baddie who get's killed by Charlie (in a particularly awkward scene) just because they realized the movie was getting boring. In fact for the first 20 minutes, we get a new cast and have to wait this long until we again find out what happened to Charlie, who was the hero we've been waiting to see. I kept waiting saying, \"Come on, when's Charlie going to appear?\" Angela Basset must be doing her best to deny she was ever in this Turkey. Moving it to the future eliminates the possibility of ever seeing a sequel with the original cast or in our time. I think the writers decided, that their movie was going to be the last and they could do whatever they wanted. This movie is totally out of line with the first two. And it didn't even seem like it was written by the same people who made 3. 3 at least had humor and could easily be seen by younger Children. 4 is just ugly and mean-spirited (Eric DaRe) is particularly cruel and unnecessary. I hated this movie. Hated, hated, hated it. I hated the fact that anyone could like it and I hated the fact that it ruined what was one of my favorite camp classics. I give this a one start simply because IMDb.com won't let me give it a zero.\n",
            "The Label is : 0\n"
          ],
          "name": "stdout"
        }
      ]
    },
    {
      "cell_type": "code",
      "metadata": {
        "colab": {
          "base_uri": "https://localhost:8080/"
        },
        "id": "elMgIrhph6Q9",
        "outputId": "ac673298-f278-4fc4-abab-1deaf765c10d"
      },
      "source": [
        "stopwords_set = set(stopwords.words('english'))\n",
        "print(stopwords_set)"
      ],
      "execution_count": 30,
      "outputs": [
        {
          "output_type": "stream",
          "text": [
            "{'yourselves', 'can', 'off', 'when', 'are', 'aren', 'into', 'i', 'not', 'this', 'few', 'at', 'y', 'theirs', 'herself', 'll', \"you'd\", 'does', 'below', 'don', \"mightn't\", 'while', 'had', 'during', 't', 'other', \"should've\", 'am', \"hadn't\", 'how', 'then', 'shouldn', 'by', 'me', 'mightn', 'for', 'ours', \"haven't\", 'a', 'on', 'himself', 'of', 'their', 'out', \"won't\", 'over', 'hers', 'against', 'if', 'myself', 'him', 'was', 'that', 'up', 's', 'you', 'under', 'our', \"don't\", 'why', 'too', 'these', \"weren't\", 'such', \"you're\", \"that'll\", 'an', 'm', 'there', 'down', 'doesn', 'is', 'o', 're', 'shan', 'wouldn', \"aren't\", 'both', 'through', 'now', 'further', 'same', 'those', 'she', \"needn't\", 'just', 'ma', 'being', 'all', 'so', 'hasn', 'until', 'no', 'didn', 'but', \"wasn't\", \"you'll\", 've', 'couldn', \"she's\", 'd', 'won', 'nor', 'yourself', 'your', 'or', 'each', 'her', 'do', 'here', 'were', 'more', 'between', 'any', 'did', 'be', 'about', 'in', 'the', 'some', 'mustn', 'his', 'only', 'it', 'has', 'and', 'own', 'than', 'itself', 'ourselves', 'what', \"shouldn't\", 'before', 'who', 'he', 'themselves', 'they', \"shan't\", 'again', 'wasn', 'yours', 'whom', 'most', \"couldn't\", \"mustn't\", 'where', 'needn', 'we', 'with', 'should', 'as', 'weren', \"didn't\", 'after', 'which', 'from', 'because', \"wouldn't\", 'very', 'to', \"doesn't\", \"you've\", 'haven', 'isn', 'been', 'having', 'doing', 'its', \"hasn't\", \"isn't\", 'ain', 'hadn', 'once', 'them', 'will', 'my', \"it's\", 'have', 'above'}\n"
          ],
          "name": "stdout"
        }
      ]
    },
    {
      "cell_type": "code",
      "metadata": {
        "id": "v4Kto3QrogpZ"
      },
      "source": [
        "text= df.iloc[random_idx]['text']\n"
      ],
      "execution_count": null,
      "outputs": []
    },
    {
      "cell_type": "code",
      "metadata": {
        "colab": {
          "base_uri": "https://localhost:8080/",
          "height": 259
        },
        "id": "3AtBO_hCoI9n",
        "outputId": "060a68b1-25ac-44b6-8342-e7224854311c"
      },
      "source": [
        "'''\n",
        "\n",
        "print(text)\n",
        "text = text.lower()\n",
        "print(text)\n",
        "words = text.split(' ')\n",
        "# instantiate tokenizer class\n",
        "tokenizer = TweetTokenizer(preserve_case=False, strip_handles=True,\n",
        "                               reduce_len=True)\n",
        "\n",
        "# tokenize tweets\n",
        "words = tokenizer.tokenize(text)\n",
        "print(words)\n",
        "print('-------------------------------------------------')\n",
        "replaced_ = [appos[word] if word in appos else word for word in words]\n",
        "print(replaced_)\n",
        "replaced_ = [word for word in replaced_ if word not in stopwords_set and  word not in list(string.punctuation) ]\n",
        "print(replaced_)\n",
        "print('-------------------------------------------------')\n",
        "replaced_ = [stemmer.stem(word) for word in replaced_]\n",
        "\n",
        "' '.join(replaced_)'''"
      ],
      "execution_count": 57,
      "outputs": [
        {
          "output_type": "stream",
          "text": [
            "didn't the writer for this movie see the other three? i loved the original, i thought 2 was the best, i tolerated 3 (it was ok, nothing special). but i hated this one. who dare they kill off ug? this was certainly not the ug who had been almost like a brother to charlie in number 2. remember his speech? charlie said, \"you wouldn't just leave me on earth, would you\". ug replied, \"charlie, bounty hunter\", saying that he was now one of them now. how dare the writers ignore this special bond between them and turn him into a baddie who get's killed by charlie (in a particularly awkward scene) just because they realized the movie was getting boring. in fact for the first 20 minutes, we get a new cast and have to wait this long until we again find out what happened to charlie, who was the hero we've been waiting to see. i kept waiting saying, \"come on, when's charlie going to appear?\" angela basset must be doing her best to deny she was ever in this turkey. moving it to the future eliminates the possibility of ever seeing a sequel with the original cast or in our time. i think the writers decided, that their movie was going to be the last and they could do whatever they wanted. this movie is totally out of line with the first two. and it didn't even seem like it was written by the same people who made 3. 3 at least had humor and could easily be seen by younger children. 4 is just ugly and mean-spirited (eric dare) is particularly cruel and unnecessary. i hated this movie. hated, hated, hated it. i hated the fact that anyone could like it and i hated the fact that it ruined what was one of my favorite camp classics. i give this a one start simply because imdb.com won't let me give it a zero.\n",
            "didn't the writer for this movie see the other three? i loved the original, i thought 2 was the best, i tolerated 3 (it was ok, nothing special). but i hated this one. who dare they kill off ug? this was certainly not the ug who had been almost like a brother to charlie in number 2. remember his speech? charlie said, \"you wouldn't just leave me on earth, would you\". ug replied, \"charlie, bounty hunter\", saying that he was now one of them now. how dare the writers ignore this special bond between them and turn him into a baddie who get's killed by charlie (in a particularly awkward scene) just because they realized the movie was getting boring. in fact for the first 20 minutes, we get a new cast and have to wait this long until we again find out what happened to charlie, who was the hero we've been waiting to see. i kept waiting saying, \"come on, when's charlie going to appear?\" angela basset must be doing her best to deny she was ever in this turkey. moving it to the future eliminates the possibility of ever seeing a sequel with the original cast or in our time. i think the writers decided, that their movie was going to be the last and they could do whatever they wanted. this movie is totally out of line with the first two. and it didn't even seem like it was written by the same people who made 3. 3 at least had humor and could easily be seen by younger children. 4 is just ugly and mean-spirited (eric dare) is particularly cruel and unnecessary. i hated this movie. hated, hated, hated it. i hated the fact that anyone could like it and i hated the fact that it ruined what was one of my favorite camp classics. i give this a one start simply because imdb.com won't let me give it a zero.\n",
            "[\"didn't\", 'the', 'writer', 'for', 'this', 'movie', 'see', 'the', 'other', 'three', '?', 'i', 'loved', 'the', 'original', ',', 'i', 'thought', '2', 'was', 'the', 'best', ',', 'i', 'tolerated', '3', '(', 'it', 'was', 'ok', ',', 'nothing', 'special', ')', '.', 'but', 'i', 'hated', 'this', 'one', '.', 'who', 'dare', 'they', 'kill', 'off', 'ug', '?', 'this', 'was', 'certainly', 'not', 'the', 'ug', 'who', 'had', 'been', 'almost', 'like', 'a', 'brother', 'to', 'charlie', 'in', 'number', '2', '.', 'remember', 'his', 'speech', '?', 'charlie', 'said', ',', '\"', 'you', \"wouldn't\", 'just', 'leave', 'me', 'on', 'earth', ',', 'would', 'you', '\"', '.', 'ug', 'replied', ',', '\"', 'charlie', ',', 'bounty', 'hunter', '\"', ',', 'saying', 'that', 'he', 'was', 'now', 'one', 'of', 'them', 'now', '.', 'how', 'dare', 'the', 'writers', 'ignore', 'this', 'special', 'bond', 'between', 'them', 'and', 'turn', 'him', 'into', 'a', 'baddie', 'who', \"get's\", 'killed', 'by', 'charlie', '(', 'in', 'a', 'particularly', 'awkward', 'scene', ')', 'just', 'because', 'they', 'realized', 'the', 'movie', 'was', 'getting', 'boring', '.', 'in', 'fact', 'for', 'the', 'first', '20', 'minutes', ',', 'we', 'get', 'a', 'new', 'cast', 'and', 'have', 'to', 'wait', 'this', 'long', 'until', 'we', 'again', 'find', 'out', 'what', 'happened', 'to', 'charlie', ',', 'who', 'was', 'the', 'hero', \"we've\", 'been', 'waiting', 'to', 'see', '.', 'i', 'kept', 'waiting', 'saying', ',', '\"', 'come', 'on', ',', \"when's\", 'charlie', 'going', 'to', 'appear', '?', '\"', 'angela', 'basset', 'must', 'be', 'doing', 'her', 'best', 'to', 'deny', 'she', 'was', 'ever', 'in', 'this', 'turkey', '.', 'moving', 'it', 'to', 'the', 'future', 'eliminates', 'the', 'possibility', 'of', 'ever', 'seeing', 'a', 'sequel', 'with', 'the', 'original', 'cast', 'or', 'in', 'our', 'time', '.', 'i', 'think', 'the', 'writers', 'decided', ',', 'that', 'their', 'movie', 'was', 'going', 'to', 'be', 'the', 'last', 'and', 'they', 'could', 'do', 'whatever', 'they', 'wanted', '.', 'this', 'movie', 'is', 'totally', 'out', 'of', 'line', 'with', 'the', 'first', 'two', '.', 'and', 'it', \"didn't\", 'even', 'seem', 'like', 'it', 'was', 'written', 'by', 'the', 'same', 'people', 'who', 'made', '3', '.', '3', 'at', 'least', 'had', 'humor', 'and', 'could', 'easily', 'be', 'seen', 'by', 'younger', 'children', '.', '4', 'is', 'just', 'ugly', 'and', 'mean-spirited', '(', 'eric', 'dare', ')', 'is', 'particularly', 'cruel', 'and', 'unnecessary', '.', 'i', 'hated', 'this', 'movie', '.', 'hated', ',', 'hated', ',', 'hated', 'it', '.', 'i', 'hated', 'the', 'fact', 'that', 'anyone', 'could', 'like', 'it', 'and', 'i', 'hated', 'the', 'fact', 'that', 'it', 'ruined', 'what', 'was', 'one', 'of', 'my', 'favorite', 'camp', 'classics', '.', 'i', 'give', 'this', 'a', 'one', 'start', 'simply', 'because', 'imdb.com', \"won't\", 'let', 'me', 'give', 'it', 'a', 'zero', '.']\n",
            "-------------------------------------------------\n",
            "['did not', 'the', 'writer', 'for', 'this', 'movie', 'see', 'the', 'other', 'three', '?', 'i', 'loved', 'the', 'original', ',', 'i', 'thought', '2', 'was', 'the', 'best', ',', 'i', 'tolerated', '3', '(', 'it', 'was', 'ok', ',', 'nothing', 'special', ')', '.', 'but', 'i', 'hated', 'this', 'one', '.', 'who', 'dare', 'they', 'kill', 'off', 'ug', '?', 'this', 'was', 'certainly', 'not', 'the', 'ug', 'who', 'had', 'been', 'almost', 'like', 'a', 'brother', 'to', 'charlie', 'in', 'number', '2', '.', 'remember', 'his', 'speech', '?', 'charlie', 'said', ',', '\"', 'you', 'would not', 'just', 'leave', 'me', 'on', 'earth', ',', 'would', 'you', '\"', '.', 'ug', 'replied', ',', '\"', 'charlie', ',', 'bounty', 'hunter', '\"', ',', 'saying', 'that', 'he', 'was', 'now', 'one', 'of', 'them', 'now', '.', 'how', 'dare', 'the', 'writers', 'ignore', 'this', 'special', 'bond', 'between', 'them', 'and', 'turn', 'him', 'into', 'a', 'baddie', 'who', \"get's\", 'killed', 'by', 'charlie', '(', 'in', 'a', 'particularly', 'awkward', 'scene', ')', 'just', 'because', 'they', 'realized', 'the', 'movie', 'was', 'getting', 'boring', '.', 'in', 'fact', 'for', 'the', 'first', '20', 'minutes', ',', 'we', 'get', 'a', 'new', 'cast', 'and', 'have', 'to', 'wait', 'this', 'long', 'until', 'we', 'again', 'find', 'out', 'what', 'happened', 'to', 'charlie', ',', 'who', 'was', 'the', 'hero', 'we have', 'been', 'waiting', 'to', 'see', '.', 'i', 'kept', 'waiting', 'saying', ',', '\"', 'come', 'on', ',', \"when's\", 'charlie', 'going', 'to', 'appear', '?', '\"', 'angela', 'basset', 'must', 'be', 'doing', 'her', 'best', 'to', 'deny', 'she', 'was', 'ever', 'in', 'this', 'turkey', '.', 'moving', 'it', 'to', 'the', 'future', 'eliminates', 'the', 'possibility', 'of', 'ever', 'seeing', 'a', 'sequel', 'with', 'the', 'original', 'cast', 'or', 'in', 'our', 'time', '.', 'i', 'think', 'the', 'writers', 'decided', ',', 'that', 'their', 'movie', 'was', 'going', 'to', 'be', 'the', 'last', 'and', 'they', 'could', 'do', 'whatever', 'they', 'wanted', '.', 'this', 'movie', 'is', 'totally', 'out', 'of', 'line', 'with', 'the', 'first', 'two', '.', 'and', 'it', 'did not', 'even', 'seem', 'like', 'it', 'was', 'written', 'by', 'the', 'same', 'people', 'who', 'made', '3', '.', '3', 'at', 'least', 'had', 'humor', 'and', 'could', 'easily', 'be', 'seen', 'by', 'younger', 'children', '.', '4', 'is', 'just', 'ugly', 'and', 'mean-spirited', '(', 'eric', 'dare', ')', 'is', 'particularly', 'cruel', 'and', 'unnecessary', '.', 'i', 'hated', 'this', 'movie', '.', 'hated', ',', 'hated', ',', 'hated', 'it', '.', 'i', 'hated', 'the', 'fact', 'that', 'anyone', 'could', 'like', 'it', 'and', 'i', 'hated', 'the', 'fact', 'that', 'it', 'ruined', 'what', 'was', 'one', 'of', 'my', 'favorite', 'camp', 'classics', '.', 'i', 'give', 'this', 'a', 'one', 'start', 'simply', 'because', 'imdb.com', 'will not', 'let', 'me', 'give', 'it', 'a', 'zero', '.']\n",
            "['did not', 'writer', 'movie', 'see', 'three', 'loved', 'original', 'thought', '2', 'best', 'tolerated', '3', 'ok', 'nothing', 'special', 'hated', 'one', 'dare', 'kill', 'ug', 'certainly', 'ug', 'almost', 'like', 'brother', 'charlie', 'number', '2', 'remember', 'speech', 'charlie', 'said', 'would not', 'leave', 'earth', 'would', 'ug', 'replied', 'charlie', 'bounty', 'hunter', 'saying', 'one', 'dare', 'writers', 'ignore', 'special', 'bond', 'turn', 'baddie', \"get's\", 'killed', 'charlie', 'particularly', 'awkward', 'scene', 'realized', 'movie', 'getting', 'boring', 'fact', 'first', '20', 'minutes', 'get', 'new', 'cast', 'wait', 'long', 'find', 'happened', 'charlie', 'hero', 'we have', 'waiting', 'see', 'kept', 'waiting', 'saying', 'come', \"when's\", 'charlie', 'going', 'appear', 'angela', 'basset', 'must', 'best', 'deny', 'ever', 'turkey', 'moving', 'future', 'eliminates', 'possibility', 'ever', 'seeing', 'sequel', 'original', 'cast', 'time', 'think', 'writers', 'decided', 'movie', 'going', 'last', 'could', 'whatever', 'wanted', 'movie', 'totally', 'line', 'first', 'two', 'did not', 'even', 'seem', 'like', 'written', 'people', 'made', '3', '3', 'least', 'humor', 'could', 'easily', 'seen', 'younger', 'children', '4', 'ugly', 'mean-spirited', 'eric', 'dare', 'particularly', 'cruel', 'unnecessary', 'hated', 'movie', 'hated', 'hated', 'hated', 'hated', 'fact', 'anyone', 'could', 'like', 'hated', 'fact', 'ruined', 'one', 'favorite', 'camp', 'classics', 'give', 'one', 'start', 'simply', 'imdb.com', 'will not', 'let', 'give', 'zero']\n",
            "-------------------------------------------------\n"
          ],
          "name": "stdout"
        },
        {
          "output_type": "execute_result",
          "data": {
            "application/vnd.google.colaboratory.intrinsic+json": {
              "type": "string"
            },
            "text/plain": [
              "\"did not writer movi see three love origin thought 2 best toler 3 ok noth special hate one dare kill ug certainli ug almost like brother charli number 2 rememb speech charli said would not leav earth would ug repli charli bounti hunter say one dare writer ignor special bond turn baddi get' kill charli particularli awkward scene realiz movi get bore fact first 20 minut get new cast wait long find happen charli hero we hav wait see kept wait say come when' charli go appear angela basset must best deni ever turkey move futur elimin possibl ever see sequel origin cast time think writer decid movi go last could whatev want movi total line first two did not even seem like written peopl made 3 3 least humor could easili seen younger children 4 ugli mean-spirit eric dare particularli cruel unnecessari hate movi hate hate hate hate fact anyon could like hate fact ruin one favorit camp classic give one start simpli imdb.com will not let give zero\""
            ]
          },
          "metadata": {
            "tags": []
          },
          "execution_count": 57
        }
      ]
    },
    {
      "cell_type": "code",
      "metadata": {
        "id": "Nz8jcZpnnggs"
      },
      "source": [
        "wn = WordNetLemmatizer()\n",
        "\n",
        "def clean_txt(text,appos,stopwords_set):\n",
        "  text = text.lower()\n",
        "  #text = re.sub(\"'\", \"\",text)\n",
        "  text=re.sub(\"(\\\\d|\\\\W)+\",\" \",text) \n",
        "  text = text.replace(\"nbsp\", \"\")\n",
        "  # instantiate tokenizer class\n",
        "  #tokenizer = TweetTokenizer(preserve_case=False, strip_handles=True,                                reduce_len=True)\n",
        "\n",
        "  # tokenize tweets\n",
        "  \n",
        "  words = word_tokenize(text)\n",
        "  replaced_ = [word for word in words if ((word not in stopwords_set) and (word not in set(string.punctuation) and (len(word)>1))) ] \n",
        "  replaced_ = [wn.lemmatize(word) for word in replaced_]\n",
        "  \n",
        "  return ' '.join(replaced_)\n",
        "\n",
        "    \n"
      ],
      "execution_count": 161,
      "outputs": []
    },
    {
      "cell_type": "code",
      "metadata": {
        "id": "ffIiXJaC8myO"
      },
      "source": [
        "df['text'] = [clean_txt(text,appos,stopwords_set) for text in df['text']]"
      ],
      "execution_count": 162,
      "outputs": []
    },
    {
      "cell_type": "code",
      "metadata": {
        "colab": {
          "base_uri": "https://localhost:8080/"
        },
        "id": "t_31AnnC8nL9",
        "outputId": "28bc66f4-c263-46c8-cf1d-7a975308bc02"
      },
      "source": [
        "df.iloc[random.randint(0,5000)]"
      ],
      "execution_count": 163,
      "outputs": [
        {
          "output_type": "execute_result",
          "data": {
            "text/plain": [
              "text     mind satisfi budget doomsday thriller pray you...\n",
              "label                                                    0\n",
              "Name: 2151, dtype: object"
            ]
          },
          "metadata": {
            "tags": []
          },
          "execution_count": 163
        }
      ]
    },
    {
      "cell_type": "code",
      "metadata": {
        "colab": {
          "base_uri": "https://localhost:8080/",
          "height": 1000
        },
        "id": "1KluyygLPKeY",
        "outputId": "9e017434-c38f-4572-8168-0be3217ab02c"
      },
      "source": [
        "df.head(50)"
      ],
      "execution_count": 164,
      "outputs": [
        {
          "output_type": "execute_result",
          "data": {
            "text/html": [
              "<div>\n",
              "<style scoped>\n",
              "    .dataframe tbody tr th:only-of-type {\n",
              "        vertical-align: middle;\n",
              "    }\n",
              "\n",
              "    .dataframe tbody tr th {\n",
              "        vertical-align: top;\n",
              "    }\n",
              "\n",
              "    .dataframe thead th {\n",
              "        text-align: right;\n",
              "    }\n",
              "</style>\n",
              "<table border=\"1\" class=\"dataframe\">\n",
              "  <thead>\n",
              "    <tr style=\"text-align: right;\">\n",
              "      <th></th>\n",
              "      <th>text</th>\n",
              "      <th>label</th>\n",
              "    </tr>\n",
              "  </thead>\n",
              "  <tbody>\n",
              "    <tr>\n",
              "      <th>0</th>\n",
              "      <td>alway wrote seri complet stink fest jim belush...</td>\n",
              "      <td>0</td>\n",
              "    </tr>\n",
              "    <tr>\n",
              "      <th>1</th>\n",
              "      <td>st watch dir steve purcel typic mari kate ashl...</td>\n",
              "      <td>0</td>\n",
              "    </tr>\n",
              "    <tr>\n",
              "      <th>2</th>\n",
              "      <td>movi poorli written direct fell asleep minut m...</td>\n",
              "      <td>0</td>\n",
              "    </tr>\n",
              "    <tr>\n",
              "      <th>3</th>\n",
              "      <td>interest thing miryang secret sunshin actor je...</td>\n",
              "      <td>1</td>\n",
              "    </tr>\n",
              "    <tr>\n",
              "      <th>4</th>\n",
              "      <td>first read berlin meer expect much thought rig...</td>\n",
              "      <td>0</td>\n",
              "    </tr>\n",
              "    <tr>\n",
              "      <th>5</th>\n",
              "      <td>saw film septemb st indianapoli one judg heart...</td>\n",
              "      <td>1</td>\n",
              "    </tr>\n",
              "    <tr>\n",
              "      <th>6</th>\n",
              "      <td>saw screen movi last night high expect go defi...</td>\n",
              "      <td>0</td>\n",
              "    </tr>\n",
              "    <tr>\n",
              "      <th>7</th>\n",
              "      <td>william hurt may american matin idol anymor st...</td>\n",
              "      <td>1</td>\n",
              "    </tr>\n",
              "    <tr>\n",
              "      <th>8</th>\n",
              "      <td>piec crap funni whole movi noth ever happen al...</td>\n",
              "      <td>0</td>\n",
              "    </tr>\n",
              "    <tr>\n",
              "      <th>9</th>\n",
              "      <td>bout br br develop publish limit film br br pr...</td>\n",
              "      <td>0</td>\n",
              "    </tr>\n",
              "    <tr>\n",
              "      <th>10</th>\n",
              "      <td>recent spectat experi perfect wit netflix comp...</td>\n",
              "      <td>0</td>\n",
              "    </tr>\n",
              "    <tr>\n",
              "      <th>11</th>\n",
              "      <td>realli enjoy detail went script br br jonathan...</td>\n",
              "      <td>1</td>\n",
              "    </tr>\n",
              "    <tr>\n",
              "      <th>12</th>\n",
              "      <td>writer movi see three love origin thought best...</td>\n",
              "      <td>0</td>\n",
              "    </tr>\n",
              "    <tr>\n",
              "      <th>13</th>\n",
              "      <td>movi realli bad first even follow fact half mo...</td>\n",
              "      <td>0</td>\n",
              "    </tr>\n",
              "    <tr>\n",
              "      <th>14</th>\n",
              "      <td>think watch highli edit version nearli graphic...</td>\n",
              "      <td>0</td>\n",
              "    </tr>\n",
              "    <tr>\n",
              "      <th>15</th>\n",
              "      <td>uwe boll done imposs creat game adapt stay lea...</td>\n",
              "      <td>0</td>\n",
              "    </tr>\n",
              "    <tr>\n",
              "      <th>16</th>\n",
              "      <td>felt asleep watch ticket midnight premier ques...</td>\n",
              "      <td>0</td>\n",
              "    </tr>\n",
              "    <tr>\n",
              "      <th>17</th>\n",
              "      <td>brass pictur movi fit word realli somewhat bra...</td>\n",
              "      <td>0</td>\n",
              "    </tr>\n",
              "    <tr>\n",
              "      <th>18</th>\n",
              "      <td>interest rai flip saw name iphigenia name euge...</td>\n",
              "      <td>1</td>\n",
              "    </tr>\n",
              "    <tr>\n",
              "      <th>19</th>\n",
              "      <td>piti monk peopl alway accu manufactur noth ame...</td>\n",
              "      <td>1</td>\n",
              "    </tr>\n",
              "    <tr>\n",
              "      <th>20</th>\n",
              "      <td>love jone cleverli portray young african ameri...</td>\n",
              "      <td>1</td>\n",
              "    </tr>\n",
              "    <tr>\n",
              "      <th>21</th>\n",
              "      <td>film terribl honestli act terribl script made ...</td>\n",
              "      <td>0</td>\n",
              "    </tr>\n",
              "    <tr>\n",
              "      <th>22</th>\n",
              "      <td>funni film like lot cari elw play robin hood t...</td>\n",
              "      <td>1</td>\n",
              "    </tr>\n",
              "    <tr>\n",
              "      <th>23</th>\n",
              "      <td>movi make want fall love name next daughter ad...</td>\n",
              "      <td>1</td>\n",
              "    </tr>\n",
              "    <tr>\n",
              "      <th>24</th>\n",
              "      <td>day watch dinosaur day fundament problem br br...</td>\n",
              "      <td>0</td>\n",
              "    </tr>\n",
              "    <tr>\n",
              "      <th>25</th>\n",
              "      <td>lost count mani time watch movi never grown ti...</td>\n",
              "      <td>1</td>\n",
              "    </tr>\n",
              "    <tr>\n",
              "      <th>26</th>\n",
              "      <td>like sever review surpri see mani neg review f...</td>\n",
              "      <td>1</td>\n",
              "    </tr>\n",
              "    <tr>\n",
              "      <th>27</th>\n",
              "      <td>film version sandra bernhard one woman broadwa...</td>\n",
              "      <td>0</td>\n",
              "    </tr>\n",
              "    <tr>\n",
              "      <th>28</th>\n",
              "      <td>spoken like true hard boil gangsta stori wor n...</td>\n",
              "      <td>0</td>\n",
              "    </tr>\n",
              "    <tr>\n",
              "      <th>29</th>\n",
              "      <td>think overr pg crap least brittani snow perfor...</td>\n",
              "      <td>0</td>\n",
              "    </tr>\n",
              "    <tr>\n",
              "      <th>30</th>\n",
              "      <td>movi good entertain purpo histor reliabl look ...</td>\n",
              "      <td>1</td>\n",
              "    </tr>\n",
              "    <tr>\n",
              "      <th>31</th>\n",
              "      <td>vagu rememb film rememb one solid reason film ...</td>\n",
              "      <td>0</td>\n",
              "    </tr>\n",
              "    <tr>\n",
              "      <th>32</th>\n",
              "      <td>one finest piec televi drama last decad throug...</td>\n",
              "      <td>1</td>\n",
              "    </tr>\n",
              "    <tr>\n",
              "      <th>33</th>\n",
              "      <td>name john mourbi stori paperh may saw alfr hit...</td>\n",
              "      <td>1</td>\n",
              "    </tr>\n",
              "    <tr>\n",
              "      <th>34</th>\n",
              "      <td>harold lloyd short realli much one funnier eff...</td>\n",
              "      <td>0</td>\n",
              "    </tr>\n",
              "    <tr>\n",
              "      <th>35</th>\n",
              "      <td>watch woman health issu class point woman trea...</td>\n",
              "      <td>1</td>\n",
              "    </tr>\n",
              "    <tr>\n",
              "      <th>36</th>\n",
              "      <td>misti ayer smoke bodi movi pure exploit flick ...</td>\n",
              "      <td>0</td>\n",
              "    </tr>\n",
              "    <tr>\n",
              "      <th>37</th>\n",
              "      <td>found imdb search film move almost tear commen...</td>\n",
              "      <td>1</td>\n",
              "    </tr>\n",
              "    <tr>\n",
              "      <th>38</th>\n",
              "      <td>movi sure one strangest theme histori right ed...</td>\n",
              "      <td>0</td>\n",
              "    </tr>\n",
              "    <tr>\n",
              "      <th>39</th>\n",
              "      <td>ye film mani gay charact also straight charact...</td>\n",
              "      <td>1</td>\n",
              "    </tr>\n",
              "    <tr>\n",
              "      <th>40</th>\n",
              "      <td>first thing struck movi terribl act whole cast...</td>\n",
              "      <td>0</td>\n",
              "    </tr>\n",
              "    <tr>\n",
              "      <th>41</th>\n",
              "      <td>word peopl german cine club worst crap ever se...</td>\n",
              "      <td>0</td>\n",
              "    </tr>\n",
              "    <tr>\n",
              "      <th>42</th>\n",
              "      <td>sentiment heart tug famili film set england yo...</td>\n",
              "      <td>1</td>\n",
              "    </tr>\n",
              "    <tr>\n",
              "      <th>43</th>\n",
              "      <td>dragon fighter first sci fi channel although g...</td>\n",
              "      <td>0</td>\n",
              "    </tr>\n",
              "    <tr>\n",
              "      <th>44</th>\n",
              "      <td>gunga din one greatest adventur stori ever tol...</td>\n",
              "      <td>1</td>\n",
              "    </tr>\n",
              "    <tr>\n",
              "      <th>45</th>\n",
              "      <td>first saw film land cabl year came blew littl ...</td>\n",
              "      <td>1</td>\n",
              "    </tr>\n",
              "    <tr>\n",
              "      <th>46</th>\n",
              "      <td>film make realli appreci invent fast forward b...</td>\n",
              "      <td>0</td>\n",
              "    </tr>\n",
              "    <tr>\n",
              "      <th>47</th>\n",
              "      <td>one probabl fit bottom barrel mediocr slasher ...</td>\n",
              "      <td>0</td>\n",
              "    </tr>\n",
              "    <tr>\n",
              "      <th>48</th>\n",
              "      <td>movi like one make sad american film gay subje...</td>\n",
              "      <td>1</td>\n",
              "    </tr>\n",
              "    <tr>\n",
              "      <th>49</th>\n",
              "      <td>fan creatur featur film endur lot aw movi late...</td>\n",
              "      <td>0</td>\n",
              "    </tr>\n",
              "  </tbody>\n",
              "</table>\n",
              "</div>"
            ],
            "text/plain": [
              "                                                 text  label\n",
              "0   alway wrote seri complet stink fest jim belush...      0\n",
              "1   st watch dir steve purcel typic mari kate ashl...      0\n",
              "2   movi poorli written direct fell asleep minut m...      0\n",
              "3   interest thing miryang secret sunshin actor je...      1\n",
              "4   first read berlin meer expect much thought rig...      0\n",
              "5   saw film septemb st indianapoli one judg heart...      1\n",
              "6   saw screen movi last night high expect go defi...      0\n",
              "7   william hurt may american matin idol anymor st...      1\n",
              "8   piec crap funni whole movi noth ever happen al...      0\n",
              "9   bout br br develop publish limit film br br pr...      0\n",
              "10  recent spectat experi perfect wit netflix comp...      0\n",
              "11  realli enjoy detail went script br br jonathan...      1\n",
              "12  writer movi see three love origin thought best...      0\n",
              "13  movi realli bad first even follow fact half mo...      0\n",
              "14  think watch highli edit version nearli graphic...      0\n",
              "15  uwe boll done imposs creat game adapt stay lea...      0\n",
              "16  felt asleep watch ticket midnight premier ques...      0\n",
              "17  brass pictur movi fit word realli somewhat bra...      0\n",
              "18  interest rai flip saw name iphigenia name euge...      1\n",
              "19  piti monk peopl alway accu manufactur noth ame...      1\n",
              "20  love jone cleverli portray young african ameri...      1\n",
              "21  film terribl honestli act terribl script made ...      0\n",
              "22  funni film like lot cari elw play robin hood t...      1\n",
              "23  movi make want fall love name next daughter ad...      1\n",
              "24  day watch dinosaur day fundament problem br br...      0\n",
              "25  lost count mani time watch movi never grown ti...      1\n",
              "26  like sever review surpri see mani neg review f...      1\n",
              "27  film version sandra bernhard one woman broadwa...      0\n",
              "28  spoken like true hard boil gangsta stori wor n...      0\n",
              "29  think overr pg crap least brittani snow perfor...      0\n",
              "30  movi good entertain purpo histor reliabl look ...      1\n",
              "31  vagu rememb film rememb one solid reason film ...      0\n",
              "32  one finest piec televi drama last decad throug...      1\n",
              "33  name john mourbi stori paperh may saw alfr hit...      1\n",
              "34  harold lloyd short realli much one funnier eff...      0\n",
              "35  watch woman health issu class point woman trea...      1\n",
              "36  misti ayer smoke bodi movi pure exploit flick ...      0\n",
              "37  found imdb search film move almost tear commen...      1\n",
              "38  movi sure one strangest theme histori right ed...      0\n",
              "39  ye film mani gay charact also straight charact...      1\n",
              "40  first thing struck movi terribl act whole cast...      0\n",
              "41  word peopl german cine club worst crap ever se...      0\n",
              "42  sentiment heart tug famili film set england yo...      1\n",
              "43  dragon fighter first sci fi channel although g...      0\n",
              "44  gunga din one greatest adventur stori ever tol...      1\n",
              "45  first saw film land cabl year came blew littl ...      1\n",
              "46  film make realli appreci invent fast forward b...      0\n",
              "47  one probabl fit bottom barrel mediocr slasher ...      0\n",
              "48  movi like one make sad american film gay subje...      1\n",
              "49  fan creatur featur film endur lot aw movi late...      0"
            ]
          },
          "metadata": {
            "tags": []
          },
          "execution_count": 164
        }
      ]
    },
    {
      "cell_type": "code",
      "metadata": {
        "id": "4DTaFv8VJwvy"
      },
      "source": [
        "df.to_csv('cleaned_dataset.csv')"
      ],
      "execution_count": 165,
      "outputs": []
    },
    {
      "cell_type": "code",
      "metadata": {
        "id": "mqRlGNLlOobC"
      },
      "source": [
        ""
      ],
      "execution_count": null,
      "outputs": []
    }
  ]
}